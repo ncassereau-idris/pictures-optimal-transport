{
 "cells": [
  {
   "cell_type": "code",
   "execution_count": null,
   "id": "493db0c2-e98e-4136-b53f-089e204edc54",
   "metadata": {},
   "outputs": [],
   "source": [
    "!nvidia-smi"
   ]
  },
  {
   "cell_type": "code",
   "execution_count": null,
   "id": "839e0006-6257-430f-a8ec-dba9b120a5f7",
   "metadata": {},
   "outputs": [],
   "source": [
    "import matplotlib.pyplot as plt\n",
    "from PIL import Image\n",
    "import numpy as np\n",
    "\n",
    "import ot\n",
    "import ot.plot\n",
    "\n",
    "import math\n",
    "from tqdm.notebook import tqdm\n",
    "\n",
    "from tempfile import TemporaryDirectory\n",
    "\n",
    "import imageio\n",
    "import scipy.sparse as sparse\n",
    "import pickle\n",
    "\n",
    "plt.rcParams['axes.facecolor'] = 'white'\n",
    "\n",
    "%load_ext autoreload\n",
    "%autoreload 2"
   ]
  },
  {
   "cell_type": "code",
   "execution_count": null,
   "id": "e63900df-0443-4df2-84cf-1bcd77ac6ee4",
   "metadata": {},
   "outputs": [],
   "source": [
    "n_points = 60000\n",
    "size = None #(600, 800)"
   ]
  },
  {
   "cell_type": "code",
   "execution_count": null,
   "id": "9fc4a314-983a-41b7-9aad-4bd0447b73af",
   "metadata": {},
   "outputs": [],
   "source": [
    "def convert_to_black_probabilities(im):\n",
    "    flattened_array = im.reshape(-1) # 0 is black, 255 is white\n",
    "    blackness = 255 - flattened_array # 0 is white, 255 is black\n",
    "    blackness = blackness ** 3.25\n",
    "    blackness = blackness / blackness.sum()\n",
    "    return blackness"
   ]
  },
  {
   "cell_type": "code",
   "execution_count": null,
   "id": "d238bbde-8507-47a3-a821-e67f89fe86bf",
   "metadata": {},
   "outputs": [],
   "source": [
    "def convert_pic_to_scatter_plot(black_probabilities, initial_shape, n_points=10000):\n",
    "    points = np.random.choice(black_probabilities.shape[0], replace=True, size=(n_points, ), p=black_probabilities)\n",
    "    p1, p2 = np.unravel_index(points, initial_shape)\n",
    "    rand = np.random.random((2, n_points))\n",
    "    return p1 + rand[0], p2 + rand[1]"
   ]
  },
  {
   "cell_type": "code",
   "execution_count": null,
   "id": "4671c634-2543-4ce8-9a9f-c75dca3b5d68",
   "metadata": {},
   "outputs": [],
   "source": [
    "def display_scatter(source, show=True, size=None):\n",
    "    x, y = source[..., 0], source[..., 1]\n",
    "    size = size or (y.max() - y.min(), x.max() - x.min())\n",
    "    n_points = x.shape[0]\n",
    "    plt.scatter(y, -x, s=4000. / n_points, c='k', marker=\".\")\n",
    "    plt.xlim(0, size[0] + 1)\n",
    "    plt.ylim(-size[1], 0)\n",
    "    plt.axis('off')\n",
    "    if show:\n",
    "        plt.show()"
   ]
  },
  {
   "cell_type": "code",
   "execution_count": null,
   "id": "659499c0-c566-4b8a-873f-005cff1b963d",
   "metadata": {},
   "outputs": [],
   "source": [
    "def change_contrast(img, level):\n",
    "    factor = (259 * (level + 255)) / (255 * (259 - level))\n",
    "    def contrast(c):\n",
    "        return 128 + factor * (c - 128)\n",
    "    return img.point(contrast)"
   ]
  },
  {
   "cell_type": "code",
   "execution_count": null,
   "id": "25a75626-55e9-4437-9077-a232e5c8724f",
   "metadata": {},
   "outputs": [],
   "source": [
    "def im2dots(original_img, n_points, size):\n",
    "    pil_image = Image.new(\"RGBA\", original_img.size, \"WHITE\") \n",
    "    pil_image.paste(original_img, (0, 0), original_img)\n",
    "    if size is not None:\n",
    "        pil_image = pil_image.resize(size)\n",
    "    pil_image = pil_image.convert(mode=\"L\")\n",
    "    pil_image = change_contrast(pil_image, 70)\n",
    "    im = np.array(pil_image)\n",
    "    probabilities = convert_to_black_probabilities(im)\n",
    "    x, y = convert_pic_to_scatter_plot(probabilities, im.shape, n_points)\n",
    "    return np.stack([x, y], axis=-1)"
   ]
  },
  {
   "cell_type": "code",
   "execution_count": null,
   "id": "a29eccbd-301b-4fa3-bd45-04f2d6e150ab",
   "metadata": {},
   "outputs": [],
   "source": [
    "image_source = Image.open(\"Examples/Monge-Kanto/Kantorovich.png\").convert(\"RGBA\")\n",
    "image_target = Image.open(\"Examples/Monge-Kanto/Monge.jpg\").convert(\"RGBA\")"
   ]
  },
  {
   "cell_type": "code",
   "execution_count": null,
   "id": "80aaffab-a43a-4d41-8616-0f287e291241",
   "metadata": {},
   "outputs": [],
   "source": [
    "xs = im2dots(image_source, n_points, size)\n",
    "xt = im2dots(image_target, n_points, size)"
   ]
  },
  {
   "cell_type": "code",
   "execution_count": null,
   "id": "a6c5d522-b7cd-4269-8b3d-355ee8ad1135",
   "metadata": {},
   "outputs": [],
   "source": [
    "plt.subplot(1, 2, 1)\n",
    "display_scatter(xs, show=False, size=size)\n",
    "plt.subplot(1, 2, 2)\n",
    "display_scatter(xt, show=False, size=size)\n",
    "plt.show()"
   ]
  },
  {
   "cell_type": "code",
   "execution_count": null,
   "id": "15e75187-948e-49dd-9c2b-3640bbe353ad",
   "metadata": {},
   "outputs": [],
   "source": [
    "def compute_transport_plan(xs, xt):\n",
    "    n_points = xs.shape[0]\n",
    "    a = np.ones((n_points,)) / n_points\n",
    "    b = np.ones((n_points,)) / n_points\n",
    "    M = ot.dist(xs, xt)\n",
    "    G, log = ot.emd(a, b, M, numThreads=24, numItermax=10_000_000, log=True)\n",
    "    return sparse.csr_matrix(G) * n_points, log"
   ]
  },
  {
   "cell_type": "code",
   "execution_count": null,
   "id": "48afd929-1788-4660-987a-b8b202989c35",
   "metadata": {},
   "outputs": [],
   "source": [
    "G, log = compute_transport_plan(xs, xt)"
   ]
  },
  {
   "cell_type": "code",
   "execution_count": null,
   "id": "d256289d-8dcb-46b1-b51f-7044d76ae827",
   "metadata": {},
   "outputs": [],
   "source": [
    "G"
   ]
  },
  {
   "cell_type": "code",
   "execution_count": null,
   "id": "68c94d76-09a8-421b-929f-9e49868272b4",
   "metadata": {},
   "outputs": [],
   "source": [
    "log"
   ]
  },
  {
   "cell_type": "code",
   "execution_count": null,
   "id": "013d411e-56a6-4881-8dc4-f5beef93a3e3",
   "metadata": {},
   "outputs": [],
   "source": [
    "def get_points_at_t(xs, xt, G, t):\n",
    "    # barycenter between xs and its corresponding xt\n",
    "    # linear translation: at xs for t=0 and at xt for t=1\n",
    "    return (1 - t) * xs + t * G @ xt"
   ]
  },
  {
   "cell_type": "code",
   "execution_count": null,
   "id": "6c31f1b3-3472-48aa-9af8-545815248139",
   "metadata": {},
   "outputs": [],
   "source": [
    "def make_time_dimension(n_frames):\n",
    "    if n_frames % 2 == 0:\n",
    "        print(\"Adding a frame for symmetry purposes\")\n",
    "        n_frames += 1\n",
    "    x = np.linspace(0, 1, math.ceil(n_frames / 2))\n",
    "    t = np.concatenate([\n",
    "            x[:-1], np.flip(x)\n",
    "        ],\n",
    "        axis=0\n",
    "    )\n",
    "    return t"
   ]
  },
  {
   "cell_type": "code",
   "execution_count": null,
   "id": "0a01f31d-7eb5-41a1-815f-b7b4b099e41d",
   "metadata": {},
   "outputs": [],
   "source": [
    "def make_gif(xs, xt, G, n_frames, gif_name=\"mygif\"):\n",
    "    with TemporaryDirectory() as tmpdirname:\n",
    "        \n",
    "        time_dim = make_time_dimension(n_frames)\n",
    "        n = len(time_dim)\n",
    "        fig = plt.figure(figsize=(6.4, 9.6))\n",
    "        \n",
    "        def make_frame(index, xs, xt, G):\n",
    "            t = time_dim[index]\n",
    "            points = get_points_at_t(xs, xt, G, t)\n",
    "            display_scatter(points, show=False, size=size)\n",
    "            plt.savefig(f\"{tmpdirname}/{index}.png\", transparent=False, bbox_inches='tight')\n",
    "            plt.clf()\n",
    "\n",
    "        for index in tqdm(range(n), desc=\"Making pictures\"):\n",
    "            make_frame(index, xs, xt, G)\n",
    "\n",
    "        plt.close()\n",
    "        plt.cla()\n",
    "        plt.clf()\n",
    "        \n",
    "        with imageio.get_writer(f\"{gif_name}.gif\", mode=\"I\", fps=60) as writer:\n",
    "            for i in tqdm(range(n), desc=\"Merging pictures\"):\n",
    "                filename = f\"{tmpdirname}/{i}.png\"\n",
    "                image = imageio.imread(filename)\n",
    "                writer.append_data(image)\n",
    "            print(\"The merger is complete\")\n"
   ]
  },
  {
   "cell_type": "code",
   "execution_count": null,
   "id": "6787547a-086f-4ba2-a705-0c5547ed2eaa",
   "metadata": {},
   "outputs": [],
   "source": [
    "make_gif(xs, xt, G, 240)"
   ]
  },
  {
   "cell_type": "code",
   "execution_count": null,
   "id": "853ffe05-96b7-4ab2-96a1-381e65f81c39",
   "metadata": {},
   "outputs": [],
   "source": []
  },
  {
   "cell_type": "code",
   "execution_count": null,
   "id": "70a83bf5-6345-4a17-b1d2-21602e714805",
   "metadata": {},
   "outputs": [],
   "source": []
  }
 ],
 "metadata": {
  "kernelspec": {
   "display_name": "Python 3 (ipykernel)",
   "language": "python",
   "name": "python3"
  },
  "language_info": {
   "codemirror_mode": {
    "name": "ipython",
    "version": 3
   },
   "file_extension": ".py",
   "mimetype": "text/x-python",
   "name": "python",
   "nbconvert_exporter": "python",
   "pygments_lexer": "ipython3",
   "version": "3.9.7"
  }
 },
 "nbformat": 4,
 "nbformat_minor": 5
}
